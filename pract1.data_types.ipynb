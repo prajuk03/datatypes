{
 "cells": [
  {
   "cell_type": "markdown",
   "id": "390dcaca",
   "metadata": {},
   "source": [
    "Python Numeric Data type"
   ]
  },
  {
   "cell_type": "code",
   "execution_count": 1,
   "id": "45690f47",
   "metadata": {},
   "outputs": [
    {
     "name": "stdout",
     "output_type": "stream",
     "text": [
      "The type of variable having value 100 is <class 'int'>\n",
      "The type of variable having value 10.2345 is <class 'float'>\n",
      "The type of variable having value (100+3j) is <class 'complex'>\n"
     ]
    }
   ],
   "source": [
    "# create a variable with integer value.\n",
    "a=100\n",
    "print(\"The type of variable having value\", a, \"is\",type(a))\n",
    "\n",
    "#create a variable with float value.\n",
    "b=10.2345\n",
    "print(\"The type of variable having value\", b, \"is\", type(b))\n",
    "\n",
    "#create a varible with complex value.\n",
    "c=100+3j\n",
    "print(\"The type of variable having value\", c , \"is\", type(c))\n",
    "\n"
   ]
  },
  {
   "cell_type": "markdown",
   "id": "00fd340f",
   "metadata": {},
   "source": [
    "Python String Data type"
   ]
  },
  {
   "cell_type": "code",
   "execution_count": 2,
   "id": "f4b3408a",
   "metadata": {},
   "outputs": [
    {
     "name": "stdout",
     "output_type": "stream",
     "text": [
      "string in a double quote\n",
      "\n",
      "string in a single quote\n",
      "\n",
      "string in a double quote concatenated with string in a single quote\n",
      "\n",
      "string in a double quoteconcated with string in a single quote\n"
     ]
    }
   ],
   "source": [
    "a = \"string in a double quote\"\n",
    "b = 'string in a single quote'\n",
    "print(a)\n",
    "print()\n",
    "print(b)\n",
    "print()\n",
    "\n",
    "#using ',' to concatenate the two or several strings\n",
    "print(a,\"concatenated with\",b)\n",
    "\n",
    "print()\n",
    "#using '+' to concate the two or several strings\n",
    "print(a+\"concated with \"+b)"
   ]
  },
  {
   "cell_type": "markdown",
   "id": "23b88d6b",
   "metadata": {},
   "source": [
    "Python List Data type"
   ]
  },
  {
   "cell_type": "code",
   "execution_count": 3,
   "id": "b33242dd",
   "metadata": {},
   "outputs": [
    {
     "name": "stdout",
     "output_type": "stream",
     "text": [
      "[1, 2, 3, 4, 5, 6]\n",
      "\n",
      "['hello', 'john', 'reese']\n",
      "\n",
      "['hey', 'you', 1, 2, 3, 'go']\n",
      "\n",
      "you\n"
     ]
    }
   ],
   "source": [
    "#list of having only integers\n",
    "a= [1,2,3,4,5,6]\n",
    "print(a)\n",
    "print()\n",
    "\n",
    "#list of having only strings\n",
    "b=[\"hello\",\"john\",\"reese\"]\n",
    "print(b)\n",
    "print()\n",
    "\n",
    "#list of having both integers and strings\n",
    "c=[\"hey\",\"you\",1,2,3,\"go\"]\n",
    "print(c)\n",
    "print()\n",
    "\n",
    "#index are 0 based. this will print a single character \n",
    "print(c[1]) #this will print \"you\" in list c"
   ]
  },
  {
   "cell_type": "markdown",
   "id": "0518bf3f",
   "metadata": {},
   "source": [
    "Python tuples"
   ]
  },
  {
   "cell_type": "code",
   "execution_count": 4,
   "id": "8bdb4152",
   "metadata": {},
   "outputs": [
    {
     "name": "stdout",
     "output_type": "stream",
     "text": [
      "(1, 2, 3, 4)\n",
      "\n",
      "('hello', 1, 2, 3, 'go')\n",
      "\n",
      "go\n"
     ]
    }
   ],
   "source": [
    "#tuple having only integer type of data.\n",
    "a=(1,2,3,4)\n",
    "print(a)#prints the whole tuple\n",
    "print()\n",
    "\n",
    "#tuple having multiple type of data.\n",
    "b=(\"hello\",1,2,3,\"go\")\n",
    "print(b)#prints the whole tuple\n",
    "print()\n",
    "\n",
    "#index of tuples are also 0 based.\n",
    "print(b[4])#this prints a single element in a tuple, in this case \"go\""
   ]
  },
  {
   "cell_type": "markdown",
   "id": "064517f5",
   "metadata": {},
   "source": [
    "Python Dictionary"
   ]
  },
  {
   "cell_type": "code",
   "execution_count": 5,
   "id": "66366fca",
   "metadata": {},
   "outputs": [
    {
     "name": "stdout",
     "output_type": "stream",
     "text": [
      "{1: 'first name', 2: 'last name', 'age': 33}\n",
      "\n",
      "first name\n",
      "\n",
      "last name\n",
      "\n",
      "33\n"
     ]
    }
   ],
   "source": [
    "#a sample dictionary variable\n",
    "\n",
    "a={1:\"first name\",2:\"last name\", \"age\":33}\n",
    "print(a)\n",
    "print()\n",
    "\n",
    "#print value having key=1\n",
    "print(a[1])\n",
    "print()\n",
    "\n",
    "#print value having key=2\n",
    "print(a[2])\n",
    "print()\n",
    "\n",
    "#print value having key=\"age\"\n",
    "print(a[\"age\"])"
   ]
  },
  {
   "cell_type": "markdown",
   "id": "74e8368e",
   "metadata": {},
   "source": [
    "Python Set"
   ]
  },
  {
   "cell_type": "code",
   "execution_count": 6,
   "id": "633450ed",
   "metadata": {},
   "outputs": [
    {
     "name": "stdout",
     "output_type": "stream",
     "text": [
      "{1, 2, 3, 4, 5}\n",
      "\n",
      "a =  {1, 2, 3, 4, 5}\n",
      "\n",
      "the data type of a is : <class 'set'>\n"
     ]
    }
   ],
   "source": [
    "a= {5,2,3,1,4}\n",
    "print(a)\n",
    "print()\n",
    "\n",
    "#printing set variable\n",
    "print(\"a = \",a)\n",
    "print()\n",
    "\n",
    "#data type of variable a \n",
    "print(\"the data type of a is :\",type(a))"
   ]
  },
  {
   "cell_type": "code",
   "execution_count": 7,
   "id": "3da36f92",
   "metadata": {},
   "outputs": [
    {
     "name": "stdout",
     "output_type": "stream",
     "text": [
      "{1, 2, 3}\n"
     ]
    }
   ],
   "source": [
    "a = {1,2,2,3,3,3}\n",
    "print(a)"
   ]
  },
  {
   "cell_type": "code",
   "execution_count": 11,
   "id": "c74a98d3",
   "metadata": {},
   "outputs": [
    {
     "data": {
      "text/plain": [
       "5.0"
      ]
     },
     "execution_count": 11,
     "metadata": {},
     "output_type": "execute_result"
    }
   ],
   "source": [
    "float(5)"
   ]
  },
  {
   "cell_type": "code",
   "execution_count": 12,
   "id": "83eda492",
   "metadata": {},
   "outputs": [
    {
     "data": {
      "text/plain": [
       "10"
      ]
     },
     "execution_count": 12,
     "metadata": {},
     "output_type": "execute_result"
    }
   ],
   "source": [
    "int(10.6)"
   ]
  },
  {
   "cell_type": "code",
   "execution_count": 13,
   "id": "2844427c",
   "metadata": {},
   "outputs": [
    {
     "data": {
      "text/plain": [
       "-10"
      ]
     },
     "execution_count": 13,
     "metadata": {},
     "output_type": "execute_result"
    }
   ],
   "source": [
    "int(-10.6)"
   ]
  },
  {
   "cell_type": "code",
   "execution_count": 14,
   "id": "308af349",
   "metadata": {},
   "outputs": [
    {
     "data": {
      "text/plain": [
       "2.5"
      ]
     },
     "execution_count": 14,
     "metadata": {},
     "output_type": "execute_result"
    }
   ],
   "source": [
    "float('2.5')"
   ]
  },
  {
   "cell_type": "code",
   "execution_count": 15,
   "id": "87303628",
   "metadata": {},
   "outputs": [
    {
     "data": {
      "text/plain": [
       "'25'"
      ]
     },
     "execution_count": 15,
     "metadata": {},
     "output_type": "execute_result"
    }
   ],
   "source": [
    "str(25)"
   ]
  },
  {
   "cell_type": "code",
   "execution_count": 16,
   "id": "db3483ae",
   "metadata": {},
   "outputs": [
    {
     "data": {
      "text/plain": [
       "{1, 2, 3}"
      ]
     },
     "execution_count": 16,
     "metadata": {},
     "output_type": "execute_result"
    }
   ],
   "source": [
    "set([1,2,3])"
   ]
  },
  {
   "cell_type": "code",
   "execution_count": 17,
   "id": "e4c7a72d",
   "metadata": {},
   "outputs": [
    {
     "data": {
      "text/plain": [
       "(5, 6, 7)"
      ]
     },
     "execution_count": 17,
     "metadata": {},
     "output_type": "execute_result"
    }
   ],
   "source": [
    "tuple({5,6,7})"
   ]
  },
  {
   "cell_type": "code",
   "execution_count": 18,
   "id": "d9f3b560",
   "metadata": {},
   "outputs": [
    {
     "data": {
      "text/plain": [
       "['h', 'e', 'l', 'l', 'o']"
      ]
     },
     "execution_count": 18,
     "metadata": {},
     "output_type": "execute_result"
    }
   ],
   "source": [
    "list('hello')"
   ]
  },
  {
   "cell_type": "code",
   "execution_count": 19,
   "id": "8355ef05",
   "metadata": {},
   "outputs": [
    {
     "data": {
      "text/plain": [
       "{1: 2, 3: 4}"
      ]
     },
     "execution_count": 19,
     "metadata": {},
     "output_type": "execute_result"
    }
   ],
   "source": [
    "#to comvert to dictionary, each element must be a pair:\n",
    "dict([[1,2],[3,4]])"
   ]
  },
  {
   "cell_type": "code",
   "execution_count": 20,
   "id": "950738fb",
   "metadata": {},
   "outputs": [
    {
     "data": {
      "text/plain": [
       "{3: 26, 4: 44}"
      ]
     },
     "execution_count": 20,
     "metadata": {},
     "output_type": "execute_result"
    }
   ],
   "source": [
    "dict([(3,26),(4,44)])"
   ]
  },
  {
   "cell_type": "code",
   "execution_count": null,
   "id": "0bc74ef7",
   "metadata": {},
   "outputs": [],
   "source": []
  }
 ],
 "metadata": {
  "kernelspec": {
   "display_name": "Python 3 (ipykernel)",
   "language": "python",
   "name": "python3"
  },
  "language_info": {
   "codemirror_mode": {
    "name": "ipython",
    "version": 3
   },
   "file_extension": ".py",
   "mimetype": "text/x-python",
   "name": "python",
   "nbconvert_exporter": "python",
   "pygments_lexer": "ipython3",
   "version": "3.9.12"
  }
 },
 "nbformat": 4,
 "nbformat_minor": 5
}
